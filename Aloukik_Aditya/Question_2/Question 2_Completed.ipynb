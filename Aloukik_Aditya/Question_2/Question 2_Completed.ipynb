{
 "cells": [
  {
   "cell_type": "markdown",
   "metadata": {},
   "source": [
    "# Assignment 1 : Question 2 (Optimization method)"
   ]
  },
  {
   "cell_type": "code",
   "execution_count": 1,
   "metadata": {},
   "outputs": [],
   "source": [
    "from gurobipy import *#--------------importing required libraries\n",
    "import numpy as np"
   ]
  },
  {
   "cell_type": "code",
   "execution_count": 2,
   "metadata": {},
   "outputs": [],
   "source": [
    "U = [1,2,3,4,5]#------------------ As there are total 5 tools, we are numberng each tool here\n",
    "\n",
    "S = [\n",
    "    [1,0,1,0,0], #--(1,3)#-------------each row tell each toolbox\n",
    "    [0,1,1,1,0], #---(2,3,4)#---------- if there is tool present in partiucalr toolbox then yes or 1, if there isnt No or 0\n",
    "    [1,1,0,0,0], #--(1,2)#----------1 means yes, 0 means NO\n",
    "    [0,0,1,1,1] #---(3,4,5)\n",
    "\n",
    "]\n",
    "\n",
    "boxes_cost = [100,120,280,200]#----------------cost of each box"
   ]
  },
  {
   "cell_type": "code",
   "execution_count": 3,
   "metadata": {},
   "outputs": [
    {
     "name": "stdout",
     "output_type": "stream",
     "text": [
      "Using license file C:\\Users\\Aloukik Aditya\\gurobi.lic\n",
      "Academic license - for non-commercial use only\n"
     ]
    }
   ],
   "source": [
    "m = Model(\"Question 2 Toolbox problem\")#---creating the model"
   ]
  },
  {
   "cell_type": "code",
   "execution_count": 4,
   "metadata": {},
   "outputs": [],
   "source": [
    "C = []#------------------ creating the varibale list here\n",
    "\n",
    "for i in range(len(S)):\n",
    "    v = m.addVar(lb=0, ub=1,vtype=GRB.BINARY, name=str(i))#-------------using for loop to add variable\n",
    "\n",
    "    C.append(v)\n"
   ]
  },
  {
   "cell_type": "code",
   "execution_count": 5,
   "metadata": {},
   "outputs": [],
   "source": [
    "#-- objective function\n",
    "obj = 0\n",
    "for v in C:\n",
    "    obj += v\n",
    "#m.setObjective(obj, GRB.MINIMIZE)\n",
    "    \n",
    "    \n",
    "# obj2 = 0\n",
    "# for p in p_l:\n",
    "#     obj2 += p\n",
    "\n",
    "\n",
    "obj2 = 0#-------------------------- multiplying each box with, C variable(which tells wether toolbox selected or not)\n",
    "for i in range(len(boxes_cost)):\n",
    "    obj2 += C[i]*boxes_cost[i]#\n",
    "\n",
    "    \n",
    "\n",
    "m.setObjective(obj2+obj, GRB.MINIMIZE)#------------- this will help minimizing cost and number values in union set\n",
    "\n",
    "    "
   ]
  },
  {
   "cell_type": "code",
   "execution_count": 6,
   "metadata": {},
   "outputs": [],
   "source": [
    "#--------------------------------setting up constrains\n",
    "boxes= np.asarray(boxes_cost)\n",
    "\n",
    "const = 0   \n",
    "\n",
    "\n",
    "\n",
    "\n",
    "for j in range(len(U)):\n",
    "    const = 0\n",
    "    \n",
    "    for i in range(len(C)):#------------------for values\n",
    "        const += S[i][j] * C[i]\n",
    "    m.addConstr(const >= 1)\n",
    "\n",
    "\n",
    "\n",
    "# price = 0\n",
    "\n",
    "\n",
    "# for i in range(len(S)):#-------------------for price\n",
    "#     price += boxes[i] * C[i]\n",
    "#     #print(const)\n",
    "#     print(boxes[i])\n",
    "#     print(C[i])\n",
    "# m.addConstr(price >= 1)"
   ]
  },
  {
   "cell_type": "code",
   "execution_count": 7,
   "metadata": {},
   "outputs": [
    {
     "name": "stdout",
     "output_type": "stream",
     "text": [
      "Gurobi Optimizer version 9.0.2 build v9.0.2rc0 (win64)\n",
      "Optimize a model with 5 rows, 4 columns and 10 nonzeros\n",
      "Model fingerprint: 0x9011abf4\n",
      "Variable types: 0 continuous, 4 integer (4 binary)\n",
      "Coefficient statistics:\n",
      "  Matrix range     [1e+00, 1e+00]\n",
      "  Objective range  [1e+02, 3e+02]\n",
      "  Bounds range     [1e+00, 1e+00]\n",
      "  RHS range        [1e+00, 1e+00]\n",
      "Found heuristic solution: objective 482.0000000\n",
      "Presolve removed 5 rows and 4 columns\n",
      "Presolve time: 0.00s\n",
      "Presolve: All rows and columns removed\n",
      "\n",
      "Explored 0 nodes (0 simplex iterations) in 0.01 seconds\n",
      "Thread count was 1 (of 8 available processors)\n",
      "\n",
      "Solution count 2: 423 \n",
      "\n",
      "Optimal solution found (tolerance 1.00e-04)\n",
      "Best objective 4.230000000000e+02, best bound 4.230000000000e+02, gap 0.0000%\n"
     ]
    }
   ],
   "source": [
    "m.optimize()#-------------using optimize function"
   ]
  },
  {
   "cell_type": "code",
   "execution_count": 8,
   "metadata": {},
   "outputs": [
    {
     "data": {
      "text/plain": [
       "[<gurobi.Var 0 (value 1.0)>,\n",
       " <gurobi.Var 1 (value 1.0)>,\n",
       " <gurobi.Var 2 (value 0.0)>,\n",
       " <gurobi.Var 3 (value 1.0)>]"
      ]
     },
     "execution_count": 8,
     "metadata": {},
     "output_type": "execute_result"
    }
   ],
   "source": [
    "C#--------------the final values shows that 1 means toolbox selected, 0 means not selected"
   ]
  },
  {
   "cell_type": "code",
   "execution_count": 9,
   "metadata": {},
   "outputs": [
    {
     "name": "stdout",
     "output_type": "stream",
     "text": [
      "Total cost is 420\n"
     ]
    }
   ],
   "source": [
    "total_cost = 0\n",
    "for i in range(len(boxes_cost)):#--------------------------------------getting the total cost here\n",
    "    \n",
    "    total_cost += round(C[i].X) * boxes_cost[i]\n",
    "\n",
    "print(\"Total cost is\", + total_cost)\n",
    "    \n"
   ]
  },
  {
   "cell_type": "code",
   "execution_count": 10,
   "metadata": {},
   "outputs": [
    {
     "data": {
      "text/plain": [
       "<gurobi.LinExpr: 0.0 0 + 0.0 1 + 0.0 2 + 3>"
      ]
     },
     "execution_count": 10,
     "metadata": {},
     "output_type": "execute_result"
    }
   ],
   "source": [
    "const"
   ]
  },
  {
   "cell_type": "code",
   "execution_count": null,
   "metadata": {},
   "outputs": [],
   "source": []
  },
  {
   "cell_type": "code",
   "execution_count": null,
   "metadata": {},
   "outputs": [],
   "source": []
  },
  {
   "cell_type": "code",
   "execution_count": null,
   "metadata": {},
   "outputs": [],
   "source": []
  },
  {
   "cell_type": "code",
   "execution_count": null,
   "metadata": {},
   "outputs": [],
   "source": [
    "\n"
   ]
  },
  {
   "cell_type": "code",
   "execution_count": null,
   "metadata": {},
   "outputs": [],
   "source": []
  }
 ],
 "metadata": {
  "kernelspec": {
   "display_name": "Python 3",
   "language": "python",
   "name": "python3"
  },
  "language_info": {
   "codemirror_mode": {
    "name": "ipython",
    "version": 3
   },
   "file_extension": ".py",
   "mimetype": "text/x-python",
   "name": "python",
   "nbconvert_exporter": "python",
   "pygments_lexer": "ipython3",
   "version": "3.7.6"
  }
 },
 "nbformat": 4,
 "nbformat_minor": 4
}
