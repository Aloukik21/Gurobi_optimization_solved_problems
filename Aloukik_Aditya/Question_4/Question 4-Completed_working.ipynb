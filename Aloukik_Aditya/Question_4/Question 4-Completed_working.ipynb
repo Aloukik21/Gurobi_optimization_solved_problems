{
 "cells": [
  {
   "cell_type": "markdown",
   "metadata": {},
   "source": [
    "# Assignemnt 1 (Optimization method)\n",
    "\n",
    "# Question 4"
   ]
  },
  {
   "cell_type": "code",
   "execution_count": 35,
   "metadata": {},
   "outputs": [],
   "source": [
    "from gurobipy import *#--------------importing required libraries\n",
    "import numpy as np\n",
    "import networkx as nx\n",
    "import random\n",
    "import matplotlib.pyplot as plt\n",
    "from string import*\n",
    "from pandas import *\n",
    "from random import randrange"
   ]
  },
  {
   "cell_type": "code",
   "execution_count": null,
   "metadata": {},
   "outputs": [],
   "source": []
  },
  {
   "cell_type": "code",
   "execution_count": null,
   "metadata": {},
   "outputs": [],
   "source": []
  },
  {
   "cell_type": "code",
   "execution_count": 36,
   "metadata": {},
   "outputs": [
    {
     "name": "stdout",
     "output_type": "stream",
     "text": [
      "Enter Number of Vetex:6\n",
      "you hhave entered vertex:  6\n"
     ]
    }
   ],
   "source": [
    "X= int(input(\"Enter Number of Vetex:\"))#------------------inputing the total number of vertices as X\n",
    "print(\"you hhave entered vertex: \" ,+ X)\n"
   ]
  },
  {
   "cell_type": "markdown",
   "metadata": {},
   "source": [
    "# The question states that, each vertex should have less then or equal X/2 edges connected to it. "
   ]
  },
  {
   "cell_type": "code",
   "execution_count": 57,
   "metadata": {},
   "outputs": [
    {
     "data": {
      "image/png": "[encoded data removed]",
      "text/plain": [
       "<Figure size 432x288 with 1 Axes>"
      ]
     },
     "metadata": {},
     "output_type": "display_data"
    }
   ],
   "source": [
    "\n",
    "#----------------------creating \n",
    "a =[]\n",
    "graph_C = []#----------------this list will contain all the edges\n",
    "\n",
    "b= []\n",
    "for i in range(X):\n",
    "\n",
    "\n",
    "\n",
    "\n",
    "    rand_num_edge = randrange(int(X/2))+1#--------------using this values can range from 0 to x/2,considered + 1 because it starts from 0\n",
    "\n",
    "    for j in range(rand_num_edge):\n",
    "\n",
    "        c = 0\n",
    "        count = 0\n",
    "        a.clear()\n",
    "        b.clear()\n",
    "\n",
    "        k = randrange(X-1)\n",
    "\n",
    "        a.append(i)\n",
    "        b.append(k)\n",
    "        c = a+b\n",
    "\n",
    "\n",
    "\n",
    "\n",
    "\n",
    "        for el in range(len(graph_C)):#------------------------loop to check to avoid repeated edges more than x/2\n",
    "            if(graph_C[el] == [i,k] or graph_C[el] == [k,i]):\n",
    "\n",
    "                count = count +1\n",
    "                #print(\"counted\")\n",
    "\n",
    "\n",
    "\n",
    "\n",
    "\n",
    "        if (count >=1):#---------------repeating loop repeated edges moore than x/2\n",
    "            j = j-1\n",
    "\n",
    "            #print(\"repeated\")\n",
    "            continue\n",
    "\n",
    "        graph_C.append(c)\n",
    "\n",
    "\n",
    "\n",
    "\n",
    "\n",
    "graph_C  \n",
    "graph = nx.Graph()\n",
    "graph.add_edges_from(graph_C)\n",
    "nx.draw(graph, with_labels=True)\n",
    "plt.show()\n"
   ]
  },
  {
   "cell_type": "code",
   "execution_count": 49,
   "metadata": {},
   "outputs": [
    {
     "data": {
      "text/plain": [
       "[[0, 4], [1, 1], [1, 2], [1, 0], [3, 2], [4, 3], [5, 4]]"
      ]
     },
     "execution_count": 49,
     "metadata": {},
     "output_type": "execute_result"
    }
   ],
   "source": [
    "graph_C"
   ]
  },
  {
   "cell_type": "markdown",
   "metadata": {},
   "source": [
    "# gurobi starts here (optimization starts from here)"
   ]
  },
  {
   "cell_type": "code",
   "execution_count": 50,
   "metadata": {},
   "outputs": [
    {
     "name": "stdout",
     "output_type": "stream",
     "text": [
      "Gurobi Optimizer version 9.0.2 build v9.0.2rc0 (win64)\n",
      "Optimize a model with 7 rows, 6 columns and 13 nonzeros\n",
      "Model fingerprint: 0x7b7917a5\n",
      "Variable types: 0 continuous, 6 integer (6 binary)\n",
      "Coefficient statistics:\n",
      "  Matrix range     [1e+00, 2e+00]\n",
      "  Objective range  [1e+00, 1e+00]\n",
      "  Bounds range     [1e+00, 1e+00]\n",
      "  RHS range        [1e+00, 1e+00]\n",
      "Found heuristic solution: objective 3.0000000\n",
      "Presolve removed 7 rows and 6 columns\n",
      "Presolve time: 0.00s\n",
      "Presolve: All rows and columns removed\n",
      "\n",
      "Explored 0 nodes (0 simplex iterations) in 0.01 seconds\n",
      "Thread count was 1 (of 8 available processors)\n",
      "\n",
      "Solution count 1: 3 \n",
      "\n",
      "Optimal solution found (tolerance 1.00e-04)\n",
      "Best objective 3.000000000000e+00, best bound 3.000000000000e+00, gap 0.0000%\n",
      "Vertex--------------------------SEE HERE---------------------- 1\n",
      "Vertex--------------------------SEE HERE---------------------- 3\n",
      "Vertex--------------------------SEE HERE---------------------- 4\n"
     ]
    }
   ],
   "source": [
    "\n",
    "\n",
    "vertices  = range(X)\n",
    "edges     = graph_C\n",
    "\n",
    "\n",
    "m = Model()\n",
    "vertexVariable = {}\n",
    "\n",
    "for v in vertices:\n",
    "    vertexVariable[v] = m.addVar(vtype=GRB.BINARY,obj=1)\n",
    "\n",
    "m.update()\n",
    "\n",
    "for edge in edges:\n",
    "    u = edge[0]\n",
    "    v = edge[1]\n",
    "    xu = vertexVariable[u]\n",
    "    xv = vertexVariable[v]\n",
    "    m.addConstr(xu + xv >= 1, name=\"e%d-%d\" % (u, v))\n",
    "\n",
    "m.update()\n",
    "\n",
    "m.optimize()\n",
    "\n",
    "cover = []\n",
    "\n",
    "for v in vertices:\n",
    "    if vertexVariable[v].X > 0.5:\n",
    "        print ('Vertex--------------------------SEE HERE----------------------', + v)\n",
    "        cover.append(v)\n",
    "\n",
    "for edge in edges:\n",
    "    u = edge[0]\n",
    "    v = edge[1]\n",
    "\n"
   ]
  },
  {
   "cell_type": "code",
   "execution_count": null,
   "metadata": {},
   "outputs": [],
   "source": []
  },
  {
   "cell_type": "code",
   "execution_count": null,
   "metadata": {},
   "outputs": [],
   "source": [
    "\n"
   ]
  },
  {
   "cell_type": "code",
   "execution_count": null,
   "metadata": {},
   "outputs": [],
   "source": []
  },
  {
   "cell_type": "code",
   "execution_count": null,
   "metadata": {},
   "outputs": [],
   "source": []
  },
  {
   "cell_type": "code",
   "execution_count": null,
   "metadata": {},
   "outputs": [],
   "source": []
  }
 ],
 "metadata": {
  "kernelspec": {
   "display_name": "Python 3",
   "language": "python",
   "name": "python3"
  },
  "language_info": {
   "codemirror_mode": {
    "name": "ipython",
    "version": 3
   },
   "file_extension": ".py",
   "mimetype": "text/x-python",
   "name": "python",
   "nbconvert_exporter": "python",
   "pygments_lexer": "ipython3",
   "version": "3.7.6"
  }
 },
 "nbformat": 4,
 "nbformat_minor": 4
}
