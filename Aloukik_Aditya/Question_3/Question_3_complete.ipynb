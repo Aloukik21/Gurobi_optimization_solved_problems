{
 "cells": [
  {
   "cell_type": "markdown",
   "metadata": {},
   "source": [
    "# Assignment 1 : Question 3 (Opitimization method)"
   ]
  },
  {
   "cell_type": "code",
   "execution_count": null,
   "metadata": {},
   "outputs": [],
   "source": [
    "from gurobipy import *#--------------importing required libraries\n",
    "import numpy as np\n",
    "\n",
    "from string import*\n",
    "from pandas import *"
   ]
  },
  {
   "cell_type": "code",
   "execution_count": 2,
   "metadata": {},
   "outputs": [
    {
     "name": "stdout",
     "output_type": "stream",
     "text": [
      "Using license file C:\\Users\\Aloukik Aditya\\gurobi.lic\n",
      "Academic license - for non-commercial use only\n"
     ]
    }
   ],
   "source": [
    "m = Model(\"Question 3 problem\")#---creating the model"
   ]
  },
  {
   "cell_type": "code",
   "execution_count": 3,
   "metadata": {},
   "outputs": [
    {
     "name": "stdout",
     "output_type": "stream",
     "text": [
      "[[ 5  4  6  7  1  5  6]\n",
      " [ 9  8  5  1  1  2  3]\n",
      " [ 1  7  4  6  2  3  5]\n",
      " [ 1  1  2  4  2  6  2]\n",
      " [15 12  1  3 10  8  2]\n",
      " [16 17  1  1  6  6  2]\n",
      " [ 3  5  8  1  2  1  1]]\n",
      "7\n"
     ]
    }
   ],
   "source": [
    "\n",
    "\n",
    "P = [\n",
    "        [5,4,6,7,1,5,6],\n",
    "        [9,8,5,1,1,2,3],\n",
    "        [1,7,4,6,2,3,5],\n",
    "        [1,1,2,4,2,6,2],#-----------------------creating matrix\n",
    "        [15,12,1,3,10,8,2],\n",
    "        [16,17,1,1,6,6,2],\n",
    "        [3,5,8,1,2,1,1]\n",
    "]\n",
    "r1 = [5,4,6,7,1,5,6]\n",
    "\n",
    "print(np.matrix(P))\n",
    "print(len(P))\n"
   ]
  },
  {
   "cell_type": "code",
   "execution_count": 4,
   "metadata": {},
   "outputs": [
    {
     "data": {
      "text/plain": [
       "[9, 8, 5, 1, 1, 2, 3]"
      ]
     },
     "execution_count": 4,
     "metadata": {},
     "output_type": "execute_result"
    }
   ],
   "source": [
    "P[1]"
   ]
  },
  {
   "cell_type": "code",
   "execution_count": null,
   "metadata": {},
   "outputs": [],
   "source": []
  },
  {
   "cell_type": "code",
   "execution_count": 5,
   "metadata": {},
   "outputs": [],
   "source": [
    "#y = m.addMVar((7,7), vtype=GRB.BINARY)"
   ]
  },
  {
   "cell_type": "code",
   "execution_count": null,
   "metadata": {},
   "outputs": [],
   "source": []
  },
  {
   "cell_type": "code",
   "execution_count": 6,
   "metadata": {},
   "outputs": [],
   "source": [
    "M = m.addMVar((7,7), lb=0,ub=1, vtype=GRB.BINARY)#----------------creating 7by7 binary matrix"
   ]
  },
  {
   "cell_type": "code",
   "execution_count": null,
   "metadata": {},
   "outputs": [],
   "source": []
  },
  {
   "cell_type": "code",
   "execution_count": 8,
   "metadata": {},
   "outputs": [],
   "source": [
    "\n",
    "for i in range(len(P)):#-------------------this loop will do algorithm part, whihc means select each grid from row and coloumn\n",
    "    const = 0\n",
    "    const_c = 0\n",
    "    \n",
    "    for j in range(len(P)):#------------------for values\n",
    "        const += M[j][i]#--------------------------it means that only values with 1 will be selevcted in coloumn\n",
    "        const_c += M[i][j] #---------------------it means value with 1 will be selected in row\n",
    "    m.addConstr(const == 1)   \n",
    "    m.addConstr(const_c == 1)\n",
    "    \n",
    "\n",
    "    \n",
    "    \n",
    "# for i in range(len(P)):\n",
    "#     const_c = 0\n",
    "#     for j in range(len(P)):#------------------for values\n",
    "#         const_c += M[i][j] \n",
    "#     m.addConstr(const_c == 1)\n",
    "\n"
   ]
  },
  {
   "cell_type": "code",
   "execution_count": 9,
   "metadata": {},
   "outputs": [],
   "source": [
    "new = np.zeros([7,7]).astype(int)#-------------\n"
   ]
  },
  {
   "cell_type": "code",
   "execution_count": 10,
   "metadata": {},
   "outputs": [],
   "source": [
    "#-- objective function\n",
    "# obj = 0\n",
    "# for v in M:\n",
    "#     obj += v\n",
    "#m.setObjective(obj, GRB.MINIMIZE)\n",
    "\n",
    "obj = 0\n",
    "for i in range(len(P)):\n",
    "    \n",
    "    for j in range(len(P)):\n",
    "        obj += P[i][j]*M[i][j]\n",
    "        \n",
    "        \n",
    "        \n",
    "        \n",
    "        \n",
    "\n",
    "# obj2 = 0\n",
    "# #-------------------------- multiplying each box with, C variable(which tells wether toolbox selected or not)\n",
    "# obj1 = 0\n",
    "# for i in range(len(P)):\n",
    "#     obj2 = 0\n",
    "#     for j in range(len(P)):\n",
    "#         obj2 += P[j][i] \n",
    "#     obj1+= obj2 + P[i][j] \n",
    "#obj = new.sum()\n",
    "    \n",
    "\n",
    "m.setObjective(obj, GRB.MAXIMIZE)#------------- this will help minimizing cost and number values in union set\n"
   ]
  },
  {
   "cell_type": "code",
   "execution_count": null,
   "metadata": {},
   "outputs": [],
   "source": []
  },
  {
   "cell_type": "code",
   "execution_count": 11,
   "metadata": {},
   "outputs": [
    {
     "name": "stdout",
     "output_type": "stream",
     "text": [
      "Gurobi Optimizer version 9.0.2 build v9.0.2rc0 (win64)\n",
      "Optimize a model with 14 rows, 49 columns and 98 nonzeros\n",
      "Model fingerprint: 0x38cb43b9\n",
      "Variable types: 0 continuous, 49 integer (49 binary)\n",
      "Coefficient statistics:\n",
      "  Matrix range     [1e+00, 1e+00]\n",
      "  Objective range  [1e+00, 2e+01]\n",
      "  Bounds range     [1e+00, 1e+00]\n",
      "  RHS range        [1e+00, 1e+00]\n",
      "Found heuristic solution: objective 29.0000000\n",
      "Presolve time: 0.01s\n",
      "Presolved: 14 rows, 49 columns, 98 nonzeros\n",
      "Variable types: 0 continuous, 49 integer (49 binary)\n",
      "\n",
      "Root relaxation: objective 6.200000e+01, 16 iterations, 0.00 seconds\n",
      "\n",
      "    Nodes    |    Current Node    |     Objective Bounds      |     Work\n",
      " Expl Unexpl |  Obj  Depth IntInf | Incumbent    BestBd   Gap | It/Node Time\n",
      "\n",
      "*    0     0               0      62.0000000   62.00000  0.00%     -    0s\n",
      "\n",
      "Explored 0 nodes (16 simplex iterations) in 0.04 seconds\n",
      "Thread count was 8 (of 8 available processors)\n",
      "\n",
      "Solution count 2: 62 29 \n",
      "\n",
      "Optimal solution found (tolerance 1.00e-04)\n",
      "Best objective 6.200000000000e+01, best bound 6.200000000000e+01, gap 0.0000%\n"
     ]
    }
   ],
   "source": [
    "m.optimize()#-------------using optimize function and it will show the result"
   ]
  },
  {
   "cell_type": "code",
   "execution_count": 12,
   "metadata": {},
   "outputs": [],
   "source": [
    "for i in range(len(P)):\n",
    "    \n",
    "    for j in range(len(P)):\n",
    "        new[i][j]= P[i][j]*M[i][j].X#--------------------for loop to see the selected grids"
   ]
  },
  {
   "cell_type": "code",
   "execution_count": null,
   "metadata": {},
   "outputs": [],
   "source": []
  },
  {
   "cell_type": "code",
   "execution_count": 13,
   "metadata": {},
   "outputs": [
    {
     "data": {
      "text/plain": [
       "array([[ 0,  0,  0,  7,  0,  0,  0],\n",
       "       [ 9,  0,  0,  0,  0,  0,  0],\n",
       "       [ 0,  0,  0,  0,  0,  0,  5],\n",
       "       [ 0,  0,  0,  0,  0,  6,  0],\n",
       "       [ 0,  0,  0,  0, 10,  0,  0],\n",
       "       [ 0, 17,  0,  0,  0,  0,  0],\n",
       "       [ 0,  0,  8,  0,  0,  0,  0]])"
      ]
     },
     "execution_count": 13,
     "metadata": {},
     "output_type": "execute_result"
    }
   ],
   "source": [
    "new#-----------------------grids which are selected are showed below"
   ]
  },
  {
   "cell_type": "code",
   "execution_count": null,
   "metadata": {},
   "outputs": [],
   "source": []
  },
  {
   "cell_type": "code",
   "execution_count": null,
   "metadata": {},
   "outputs": [],
   "source": []
  },
  {
   "cell_type": "code",
   "execution_count": null,
   "metadata": {},
   "outputs": [],
   "source": []
  },
  {
   "cell_type": "code",
   "execution_count": null,
   "metadata": {},
   "outputs": [],
   "source": []
  },
  {
   "cell_type": "code",
   "execution_count": null,
   "metadata": {},
   "outputs": [],
   "source": []
  },
  {
   "cell_type": "code",
   "execution_count": null,
   "metadata": {},
   "outputs": [],
   "source": []
  },
  {
   "cell_type": "code",
   "execution_count": null,
   "metadata": {},
   "outputs": [],
   "source": []
  },
  {
   "cell_type": "code",
   "execution_count": null,
   "metadata": {},
   "outputs": [],
   "source": []
  },
  {
   "cell_type": "code",
   "execution_count": null,
   "metadata": {},
   "outputs": [],
   "source": []
  },
  {
   "cell_type": "code",
   "execution_count": null,
   "metadata": {},
   "outputs": [],
   "source": []
  },
  {
   "cell_type": "code",
   "execution_count": null,
   "metadata": {},
   "outputs": [],
   "source": []
  },
  {
   "cell_type": "code",
   "execution_count": null,
   "metadata": {},
   "outputs": [],
   "source": []
  },
  {
   "cell_type": "code",
   "execution_count": null,
   "metadata": {},
   "outputs": [],
   "source": []
  },
  {
   "cell_type": "code",
   "execution_count": null,
   "metadata": {},
   "outputs": [],
   "source": []
  },
  {
   "cell_type": "code",
   "execution_count": null,
   "metadata": {},
   "outputs": [],
   "source": []
  },
  {
   "cell_type": "code",
   "execution_count": null,
   "metadata": {},
   "outputs": [],
   "source": []
  },
  {
   "cell_type": "code",
   "execution_count": null,
   "metadata": {},
   "outputs": [],
   "source": []
  },
  {
   "cell_type": "code",
   "execution_count": null,
   "metadata": {},
   "outputs": [],
   "source": []
  }
 ],
 "metadata": {
  "kernelspec": {
   "display_name": "Python 3",
   "language": "python",
   "name": "python3"
  },
  "language_info": {
   "codemirror_mode": {
    "name": "ipython",
    "version": 3
   },
   "file_extension": ".py",
   "mimetype": "text/x-python",
   "name": "python",
   "nbconvert_exporter": "python",
   "pygments_lexer": "ipython3",
   "version": "3.7.6"
  }
 },
 "nbformat": 4,
 "nbformat_minor": 4
}
